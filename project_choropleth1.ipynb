{
 "cells": [
  {
   "cell_type": "code",
   "execution_count": 1,
   "metadata": {},
   "outputs": [],
   "source": [
    "import pandas as pd\n",
    "import random\n",
    "from bokeh.models import (\n",
    "    GeoJSONDataSource,\n",
    "    HoverTool,\n",
    "    LinearColorMapper,\n",
    "    LogColorMapper,\n",
    "    ColorBar,\n",
    "    LogTicker\n",
    ")\n",
    "import json\n",
    "import numpy as np\n",
    "from bokeh.plotting import figure, show,output_file,output_notebook\n",
    "from bokeh.models import Range1d\n",
    "from bokeh.models.widgets import Panel, Tabs\n",
    "from bokeh.layouts import layout\n",
    "from bokeh.io import curdoc\n",
    "\n",
    "from bokeh.palettes import Purples9 as palette1\n",
    "from bokeh.palettes import YlGn9 as palette2\n",
    "\n",
    " "
   ]
  },
  {
   "cell_type": "code",
   "execution_count": 2,
   "metadata": {},
   "outputs": [],
   "source": [
    "\n",
    "\n",
    "with open(r'Hospitals_2002.geojson', 'r') as f:\n",
    "    geo_source1 = GeoJSONDataSource(geojson=f.read())\n",
    "    \n",
    "with open(r'Hospitals_2003.geojson', 'r') as f:\n",
    "    geo_source2 = GeoJSONDataSource(geojson=f.read())\n",
    "\n",
    "with open(r'Hospitals_2004.geojson', 'r') as f:\n",
    "    geo_source3 = GeoJSONDataSource(geojson=f.read())"
   ]
  },
  {
   "cell_type": "code",
   "execution_count": 3,
   "metadata": {},
   "outputs": [
    {
     "name": "stderr",
     "output_type": "stream",
     "text": [
      "WARNING:bokeh.core.validation.check:W-1004 (BOTH_CHILD_AND_ROOT): Models should not be a document root if they are in a layout box: Tabs(id='417d0753-2044-4b2e-8f06-036d279f4f29', ...)\n"
     ]
    }
   ],
   "source": [
    "TOOLS = \"pan,wheel_zoom,box_zoom,reset,save\"\n",
    "custom_colors = ['#f2f2f2', '#fee5d9', '#fcbba1', '#fc9272', '#fb6a4a', '#de2d26']\n",
    "mapper1 = LinearColorMapper(palette=custom_colors, low=450, high=3500) \n",
    "mapper2 = LinearColorMapper(palette=palette1, low=100, high=4000) \n",
    "mapper3 = LinearColorMapper(palette=palette2, low=600, high=3600) \n",
    "\n",
    "color_bar1 = ColorBar(color_mapper=mapper1, ticker=LogTicker(),\n",
    "                     label_standoff=12, border_line_color=None, location=(0,0))\n",
    "color_bar2 = ColorBar(color_mapper=mapper2, ticker=LogTicker(),\n",
    "                     label_standoff=12, border_line_color=None, location=(0,0))\n",
    "color_bar3 = ColorBar(color_mapper=mapper3, ticker=LogTicker(),\n",
    "                     label_standoff=12, border_line_color=None, location=(0,0))\n",
    "\n",
    "palette1.reverse()\n",
    "palette2.reverse()\n",
    "p = figure(title=\"Connecticut Dengue Cases recorded in Year 2002\", tools=TOOLS, x_axis_location=None, y_axis_location=None, width=800, height=500)\n",
    "p.grid.grid_line_color = None\n",
    "p.patches('xs', 'ys', fill_alpha=1.0, \n",
    "          fill_color={'field': 'Total_Cases_2002', 'transform': mapper1},\n",
    "          line_color='red', line_width=0.5, source=geo_source1)\n",
    "hover1 = HoverTool( tooltips=[(\"Name\",\"@name\"), (\"Yale Hospital\",\"@Yale_Hospital\"),\n",
    "                              (\"Bristol Hospital\",\"@Bristol_Hospital\"),(\"Gaylord Hospital\",\"@Gaylord_Hospital\"),\n",
    "                             (\"Total cases\",\"@Total_Cases_2002\")] )\n",
    "p.add_tools(hover1)\n",
    "p.add_layout(color_bar1, 'right')\n",
    "\n",
    "p1 = figure(title=\"Connecticut Dengue Cases recorded in Year 2003\", tools=TOOLS, x_axis_location=None, y_axis_location=None, width=800, height=500)\n",
    "p1.grid.grid_line_color = None\n",
    "p1.patches('xs', 'ys', fill_alpha=1.0, \n",
    "          fill_color={'field': 'Total_Cases_2003', 'transform': mapper2},\n",
    "          line_color='red', line_width=0.5, source=geo_source2)\n",
    "hover2 = HoverTool( tooltips=[(\"Name\",\"@name\"), (\"Yale Hospital\",\"@Yale_Hospital\"),(\"Bristol Hospital\",\"@Bristol_Hospital\"),(\"Gaylord Hospital\",\"@Gaylord_Hospital\"),\n",
    "                             (\"Total cases\",\"@Total_Cases_2003\")] )\n",
    "p1.add_tools(hover2)\n",
    "p1.add_layout(color_bar2, 'right')\n",
    "\n",
    "\n",
    "p2 = figure(title=\"Connecticut Dengue Cases recorded in Year 2004\", tools=TOOLS, x_axis_location=None, y_axis_location=None, width=800, height=500)\n",
    "p2.grid.grid_line_color = None\n",
    "p2.patches('xs', 'ys', fill_alpha=1.0, \n",
    "          fill_color={'field': 'Total_Cases_2004', 'transform': mapper3},\n",
    "          line_color='red', line_width=0.5, source=geo_source3)\n",
    "hover3 = HoverTool( tooltips=[(\"Name\",\"@name\"), (\"Yale Hospital\",\"@Yale_Hospital\"),(\"Bristol Hospital\",\"@Bristol_Hospital\"),(\"Gaylord Hospital\",\"@Gaylord_Hospital\"),\n",
    "                             (\"Total cases\",\"@Total_Cases_2004\")] )\n",
    "p2.add_tools(hover3)\n",
    "p2.add_layout(color_bar3, 'right')\n",
    "\n",
    "\n",
    "tab1 = Panel(child=p, title=\"2002\")\n",
    "tab2 = Panel(child=p1, title=\"2003\")\n",
    "tab3 = Panel(child=p2, title=\"2004\")\n",
    "\n",
    "tabs = Tabs(tabs=[tab1,tab2,tab3])\n",
    "myLayout = layout([[tabs]])\n",
    "curdoc().add_root(myLayout)\n",
    "show(tabs)\n",
    "\n",
    "   "
   ]
  }
 ],
 "metadata": {
  "kernelspec": {
   "display_name": "Python 3",
   "language": "python",
   "name": "python3"
  },
  "language_info": {
   "codemirror_mode": {
    "name": "ipython",
    "version": 3
   },
   "file_extension": ".py",
   "mimetype": "text/x-python",
   "name": "python",
   "nbconvert_exporter": "python",
   "pygments_lexer": "ipython3",
   "version": "3.6.4"
  }
 },
 "nbformat": 4,
 "nbformat_minor": 2
}
