{
 "cells": [
  {
   "cell_type": "code",
   "execution_count": 4,
   "metadata": {},
   "outputs": [],
   "source": [
    "import pandas as pd\n",
    "import random\n",
    "from bokeh.models import (\n",
    "    GeoJSONDataSource,\n",
    "    HoverTool,\n",
    "    LinearColorMapper,\n",
    "    LogColorMapper,\n",
    "    ColorBar,\n",
    "    LogTicker\n",
    ")\n",
    "import json\n",
    "import numpy as np\n",
    "from bokeh.plotting import figure, show,output_file,output_notebook\n",
    "from bokeh.models import Range1d\n",
    "from bokeh.models.widgets import Panel, Tabs\n",
    "from bokeh.layouts import layout\n",
    "from bokeh.io import curdoc\n",
    "\n",
    "from bokeh.palettes import Purples9 as palette1\n",
    "from bokeh.palettes import YlGn9 as palette2\n",
    "\n",
    "with open(r'Hospitals_2002.geojson', 'r') as f:\n",
    "    geo_source1 = GeoJSONDataSource(geojson=f.read())\n",
    "    \n",
    "with open(r'Hospitals_2003.geojson', 'r') as f:\n",
    "    geo_source2 = GeoJSONDataSource(geojson=f.read())\n",
    "\n",
    "with open(r'Hospitals_2004.geojson', 'r') as f:\n",
    "    geo_source3 = GeoJSONDataSource(geojson=f.read())\n"
   ]
  },
  {
   "cell_type": "code",
   "execution_count": 5,
   "metadata": {},
   "outputs": [
    {
     "name": "stderr",
     "output_type": "stream",
     "text": [
      "WARNING:bokeh.core.validation.check:W-1004 (BOTH_CHILD_AND_ROOT): Models should not be a document root if they are in a layout box: Tabs(id='4a53c0b2-53a9-4c8b-992d-23489bcfd33e', ...)\n"
     ]
    }
   ],
   "source": [
    "TOOLS = \"pan,wheel_zoom,box_zoom,reset,save\"\n",
    "custom_colors = ['#f2f2f2', '#fee5d9', '#fcbba1', '#fc9272', '#fb6a4a', '#de2d26']\n",
    "mapper1 = LinearColorMapper(palette=custom_colors,low=1,high=30)  \n",
    "mapper2=LinearColorMapper(palette=custom_colors,low=15,high=30) \n",
    "mapper3=LinearColorMapper(palette=custom_colors,low=14,high=30)\n",
    "\n",
    "\n",
    " \n",
    "color_bar1 = ColorBar(color_mapper=mapper1, ticker=LogTicker(),\n",
    "                     label_standoff=12, border_line_color=None, location=(0,0))\n",
    "color_bar2 = ColorBar(color_mapper=mapper2, ticker=LogTicker(),\n",
    "                     label_standoff=12, border_line_color=None, location=(0,0))\n",
    "color_bar3 = ColorBar(color_mapper=mapper3, ticker=LogTicker(),\n",
    "                     label_standoff=12, border_line_color=None, location=(0,0))\n",
    "\n",
    "\n",
    "p = figure(title=\"Total Dengue Cases of Yale Hospital\", tools=TOOLS, x_axis_location=None, y_axis_location=None, width=800, height=500)\n",
    "p.grid.grid_line_color = None\n",
    "\n",
    "p.patches('xs', 'ys', fill_alpha=1.0, \n",
    "          fill_color={'field': 'Yale_Hospital', 'transform': mapper1},\n",
    "          line_color=\"black\", line_width=0.3, source=geo_source)\n",
    "hover = HoverTool( tooltips=[(\"Name\",\"@name\"), (\"Yale Hospital\",\"@Yale_Hospital\")] )\n",
    "p.add_tools(hover)\n",
    "p.add_layout(color_bar1, 'right')\n",
    "\n",
    "\n",
    "p2 = figure(title=\"Total Dengue Cases of Hartford Hospital\", tools=TOOLS, x_axis_location=None, y_axis_location=None, width=800, height=500)\n",
    "p2.grid.grid_line_color = None\n",
    "\n",
    "p2.patches('xs', 'ys', fill_alpha=1.0, \n",
    "          fill_color={'field': 'Hartford_Hospital', 'transform': mapper2},\n",
    "          line_color=\"black\", line_width=0.3, source=geo_source)\n",
    "hover1 = HoverTool( tooltips=[(\"Name\",\"@name\"), (\"Hartford Hospital\",\"@Hartford_Hospital\")] )\n",
    "p2.add_tools(hover1)\n",
    "p2.add_layout(color_bar2, 'right')\n",
    "\n",
    "p3 = figure(title=\"Total Dengue Cases of Middlesex Hospital Hospital\", tools=TOOLS, x_axis_location=None, y_axis_location=None, width=800, height=500)\n",
    "p3.grid.grid_line_color = None\n",
    "\n",
    "p3.patches('xs', 'ys', fill_alpha=1.0,\n",
    "          fill_color={'field': 'Middlesex_Hospital', 'transform': mapper3},\n",
    "          line_color=\"black\", line_width=0.3, source=geo_source)\n",
    "hover2 = HoverTool( tooltips=[(\"Name\",\"@name\"), (\"Middlesex Hospital\",\"@Middlesex_Hospital\")] )\n",
    "p3.add_tools(hover2)\n",
    "p3.add_layout(color_bar3, 'right')\n",
    "\n",
    "\n",
    "tab1 = Panel(child=p, title=\"Yale Hospital\")\n",
    "tab2 = Panel(child=p2, title=\"Hartford Hospital\")\n",
    "tab3 = Panel(child=p3, title=\"Middlesex Hospital\")\n",
    "\n",
    "tabs = Tabs(tabs=[tab1,tab2,tab3])\n",
    "myLayout = layout([[tabs]])\n",
    "curdoc().add_root(myLayout)\n",
    "show(tabs)\n",
    " "
   ]
  },
  {
   "cell_type": "code",
   "execution_count": 2,
   "metadata": {},
   "outputs": [
    {
     "name": "stdout",
     "output_type": "stream",
     "text": [
      "New London County, CT\n",
      "Hartford County, CT\n",
      "Middlesex County, CT\n",
      "Litchfield County, CT\n",
      "Tolland County, CT\n",
      "Windham County, CT\n",
      "Fairfield County, CT\n",
      "New Haven County, CT\n"
     ]
    }
   ],
   "source": [
    "import json\n",
    "with open('Project_Hospitals.geojson', 'r') as json_file:\n",
    "    counties_2010 = json.load(json_file)\n",
    "for v in counties_2010[\"features\"]:\n",
    "    print(v[\"properties\"][\"name\"] )"
   ]
  },
  {
   "cell_type": "code",
   "execution_count": null,
   "metadata": {},
   "outputs": [],
   "source": []
  }
 ],
 "metadata": {
  "kernelspec": {
   "display_name": "Python 3",
   "language": "python",
   "name": "python3"
  },
  "language_info": {
   "codemirror_mode": {
    "name": "ipython",
    "version": 3
   },
   "file_extension": ".py",
   "mimetype": "text/x-python",
   "name": "python",
   "nbconvert_exporter": "python",
   "pygments_lexer": "ipython3",
   "version": "3.6.4"
  }
 },
 "nbformat": 4,
 "nbformat_minor": 2
}
