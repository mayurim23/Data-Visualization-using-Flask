{
 "cells": [
  {
   "cell_type": "code",
   "execution_count": 6,
   "metadata": {},
   "outputs": [],
   "source": [
    "import pandas as pd\n",
    "import random\n",
    "from bokeh.models import Range1d\n",
    "from datetime import datetime, timedelta\n",
    "\n",
    "data= pd.read_csv(\"DV_Data.csv\")\n",
    "data['week_start_date'] =  pd.to_datetime(data['week_start_date']) \n",
    "data['week_start_date']=data.week_start_date.map(lambda x: x.strftime('%Y-%m-%d'))\n",
    "data.total_cases = data.total_cases.astype(int)"
   ]
  },
  {
   "cell_type": "code",
   "execution_count": 12,
   "metadata": {},
   "outputs": [],
   "source": [
    "from bokeh.models import ColumnDataSource,HoverTool\n",
    "from bokeh.plotting import figure, output_file, show, output_notebook\n",
    "from bokeh.models.widgets import Select,Panel,Tabs\n",
    "from bokeh.io import curdoc\n",
    "from bokeh.layouts import column, row,widgetbox\n",
    "from bokeh.layouts import layout\n",
    "from bokeh.io import curdoc\n",
    "import pandas as pd\n",
    "from bokeh.palettes import Viridis256,Spectral9,RdYlGn9 as palette\n",
    "from bokeh.models.widgets import Paragraph\n",
    "#from bokeh.layouts import layout\n",
    "from bokeh.models import (\n",
    "    ColorBar,\n",
    "    LinearColorMapper,\n",
    " )\n",
    "from bokeh.transform import linear_cmap\n",
    "\n",
    "from bokeh.embed import components\n",
    "from bokeh.resources import CDN\n",
    "    \n",
    "weekofyear1_2002=list(data[(data.year==2002) & (data.city==\"New_London\")].week_start_date)\n",
    "totalcases1_2002=list(data[(data.year==2002) & (data.city==\"New_London\")].total_cases)\n",
    "\n",
    "\n",
    "\n",
    "d1 = {'weekofyear' : weekofyear1_2002,\n",
    "      'totalcases':totalcases1_2002\n",
    "       }\n",
    "\n",
    "\n",
    "source = ColumnDataSource(d1)\n",
    "\n",
    "\n",
    "p = figure(plot_width=450, plot_height=450, title=\"Total Dengue cases recorded in 2002 for 52 weeks\",\n",
    "           toolbar_location=None, tools=\"\",x_axis_type='datetime')\n",
    "p.line(x='weekofyear', y='totalcases',source=source)\n",
    "p.yaxis.axis_label = \"Total cases for each week\"\n",
    "p.xaxis.axis_label = \"Week of Year 2002\"\n",
    "\n",
    "\n",
    "show(p)\n"
   ]
  },
  {
   "cell_type": "code",
   "execution_count": null,
   "metadata": {},
   "outputs": [],
   "source": []
  },
  {
   "cell_type": "code",
   "execution_count": null,
   "metadata": {},
   "outputs": [],
   "source": []
  }
 ],
 "metadata": {
  "kernelspec": {
   "display_name": "Python 3",
   "language": "python",
   "name": "python3"
  },
  "language_info": {
   "codemirror_mode": {
    "name": "ipython",
    "version": 3
   },
   "file_extension": ".py",
   "mimetype": "text/x-python",
   "name": "python",
   "nbconvert_exporter": "python",
   "pygments_lexer": "ipython3",
   "version": "3.6.4"
  }
 },
 "nbformat": 4,
 "nbformat_minor": 2
}
