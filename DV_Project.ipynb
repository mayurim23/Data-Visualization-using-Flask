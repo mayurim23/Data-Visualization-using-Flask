{
 "cells": [
  {
   "cell_type": "code",
   "execution_count": null,
   "metadata": {
    "extensions": {
     "jupyter_dashboards": {
      "version": 1,
      "views": {
       "grid_default": {
        "col": 0,
        "height": 7,
        "hidden": false,
        "row": 0,
        "width": 7
       },
       "report_default": {
        "hidden": false
       }
      }
     }
    },
    "scrolled": true
   },
   "outputs": [],
   "source": [
    "import pandas as pd\n",
    "import random\n",
    "data= pd.read_csv(\"DV_Data.csv\")\n",
    "data.total_cases = data.total_cases.astype(int)\n",
    "data.head()"
   ]
  },
  {
   "cell_type": "code",
   "execution_count": null,
   "metadata": {
    "extensions": {
     "jupyter_dashboards": {
      "version": 1,
      "views": {
       "grid_default": {
        "col": 0,
        "height": 37,
        "hidden": false,
        "row": 12,
        "width": 4
       },
       "report_default": {
        "hidden": false
       }
      }
     }
    }
   },
   "outputs": [],
   "source": [
    "data2=data.groupby(['city','year'])['total_cases'].sum()\n",
    "data2=pd.DataFrame(data2.reset_index(level=[0,1]))\n",
    "data2"
   ]
  },
  {
   "cell_type": "markdown",
   "metadata": {
    "extensions": {
     "jupyter_dashboards": {
      "version": 1,
      "views": {
       "grid_default": {
        "col": 0,
        "height": 5,
        "hidden": false,
        "row": 7,
        "width": 12
       },
       "report_default": {
        "hidden": false
       }
      }
     }
    }
   },
   "source": [
    "\n",
    "from bokeh.io import show, output_file\n",
    "from bokeh.models import ColumnDataSource\n",
    "from bokeh.palettes import Spectral6\n",
    "from bokeh.transform import factor_cmap\n",
    "from bokeh.plotting import figure\n",
    "x = df[\"city\"]\n",
    "y=df[\"total_cases\"]\n",
    "output_file(\"cities.html\")  \n",
    "source = ColumnDataSource(data=dict(x=x, y=y))\n",
    "f = figure(x_range=x, plot_height=450, toolbar_location=None, title=\"Dengue Fever Cases for each City\")\n",
    "f.vbar(x='x', top='y', width=0.5, legend=\"x\", source=source,\n",
    "       line_color='white', fill_color=factor_cmap('x', palette=Spectral6, factors=x))\n",
    "\n",
    "\n",
    "new_legend = f.legend[0]\n",
    "f.legend[0].plot = None\n",
    "f.add_layout(new_legend, 'right')\n",
    "show(f)\n"
   ]
  },
  {
   "cell_type": "code",
   "execution_count": null,
   "metadata": {
    "extensions": {
     "jupyter_dashboards": {
      "version": 1,
      "views": {
       "grid_default": {
        "hidden": true
       },
       "report_default": {
        "hidden": true
       }
      }
     }
    }
   },
   "outputs": [],
   "source": [
    "\n",
    "\n",
    "from bokeh.models import ColumnDataSource\n",
    "from bokeh.plotting import figure, output_file, show, output_notebook\n",
    "from bokeh.models.widgets import Select\n",
    "from bokeh.io import curdoc\n",
    "from bokeh.layouts import column, row\n",
    "import pandas as pd\n",
    "\n",
    "cities = list(data2['city'].unique())\n",
    "years = list(data2['year'].unique())\n",
    "data_2001=list(data2[data2.year==2001].total_cases)\n",
    "data_2002=list(data2[data2.year==2002].total_cases)\n",
    "data_2003=list(data2[data2.year==2003].total_cases)\n",
    "data_2004=list(data2[data2.year==2004].total_cases)\n",
    "data_2005=list(data2[data2.year==2005].total_cases)\n",
    "data_2006=list(data2[data2.year==2006].total_cases)\n",
    "data_2007=list(data2[data2.year==2007].total_cases)\n",
    "data_2008=list(data2[data2.year==2008].total_cases)\n",
    "\n",
    "d1 = {'cities' : cities,\n",
    "        'y'   : data_2001\n",
    "       }\n",
    "d2 = {'cities' : cities,\n",
    "        'y'   : data_2002\n",
    "       }\n",
    "\n",
    "d3= {'cities' : cities,\n",
    "        'y'   : data_2003\n",
    "       }\n",
    "d4= {'cities' : cities,\n",
    "        'y'   : data_2004\n",
    "       }\n",
    "d5 = {'cities' : cities,\n",
    "        'y'   : data_2005\n",
    "       }\n",
    "d6 = {'cities' : cities,\n",
    "        'y'   : data_2006\n",
    "       }\n",
    "\n",
    "d7= {'cities' : cities,\n",
    "        'y'   : data_2007\n",
    "       }\n",
    "d8= {'cities' : cities,\n",
    "        'y'   : data_2008\n",
    "       }\n",
    "source = ColumnDataSource(d1)\n",
    "\n",
    "p = figure(x_range=cities, y_range=(0, 5000),plot_width=800, plot_height=450, title=\"Total Dengue cases recorded each year in a city\",\n",
    "           toolbar_location=None, tools=\"\")\n",
    "p.line(x='cities', y='y',source = source,color=\"red\")\n",
    "select = Select(title=\"Year\",  options=['2001', '2002','2003','2004','2005','2006','2007','2008'])\n",
    "\n",
    "def update_plot(attrname, old, new):\n",
    "    if select.value == '2001':\n",
    "        newSource = d1  # changed this to the dict\n",
    "    if select.value == '2002':\n",
    "        newSource = d2  # changed this to the dict\n",
    "    if select.value == '2003':\n",
    "        newSource = d3  # changed this to the dict\n",
    "    if select.value == '2004':\n",
    "        newSource = d4  # changed this to the dict \n",
    "    if select.value == '2005':\n",
    "        newSource = d5  # changed this to the dict\n",
    "    if select.value == '2006':\n",
    "        newSource = d6  # changed this to the dict\n",
    "    if select.value == '2007':\n",
    "        newSource = d7  # changed this to the dict\n",
    "    if select.value == '2008':\n",
    "        newSource = d8  # changed this to the dict     \n",
    "    source.data =  newSource \n",
    "\n",
    "\n",
    "select.on_change('value', update_plot)\n",
    "layout = column(row(select, width=400), p)\n",
    "curdoc().add_root(layout)\n",
    "\n"
   ]
  },
  {
   "cell_type": "code",
   "execution_count": 4,
   "metadata": {},
   "outputs": [
    {
     "data": {
      "text/html": [
       "<div>\n",
       "<style scoped>\n",
       "    .dataframe tbody tr th:only-of-type {\n",
       "        vertical-align: middle;\n",
       "    }\n",
       "\n",
       "    .dataframe tbody tr th {\n",
       "        vertical-align: top;\n",
       "    }\n",
       "\n",
       "    .dataframe thead th {\n",
       "        text-align: right;\n",
       "    }\n",
       "</style>\n",
       "<table border=\"1\" class=\"dataframe\">\n",
       "  <thead>\n",
       "    <tr style=\"text-align: right;\">\n",
       "      <th></th>\n",
       "      <th>city</th>\n",
       "      <th>year</th>\n",
       "      <th>total_cases</th>\n",
       "    </tr>\n",
       "  </thead>\n",
       "  <tbody>\n",
       "    <tr>\n",
       "      <th>0</th>\n",
       "      <td>Fairfield</td>\n",
       "      <td>2002</td>\n",
       "      <td>3962</td>\n",
       "    </tr>\n",
       "    <tr>\n",
       "      <th>1</th>\n",
       "      <td>Fairfield</td>\n",
       "      <td>2003</td>\n",
       "      <td>4028</td>\n",
       "    </tr>\n",
       "    <tr>\n",
       "      <th>2</th>\n",
       "      <td>Fairfield</td>\n",
       "      <td>2004</td>\n",
       "      <td>3836</td>\n",
       "    </tr>\n",
       "    <tr>\n",
       "      <th>3</th>\n",
       "      <td>Hartford</td>\n",
       "      <td>2002</td>\n",
       "      <td>704</td>\n",
       "    </tr>\n",
       "    <tr>\n",
       "      <th>4</th>\n",
       "      <td>Hartford</td>\n",
       "      <td>2003</td>\n",
       "      <td>114</td>\n",
       "    </tr>\n",
       "    <tr>\n",
       "      <th>5</th>\n",
       "      <td>Hartford</td>\n",
       "      <td>2004</td>\n",
       "      <td>638</td>\n",
       "    </tr>\n",
       "    <tr>\n",
       "      <th>6</th>\n",
       "      <td>Litchfield</td>\n",
       "      <td>2002</td>\n",
       "      <td>3234</td>\n",
       "    </tr>\n",
       "    <tr>\n",
       "      <th>7</th>\n",
       "      <td>Litchfield</td>\n",
       "      <td>2003</td>\n",
       "      <td>3570</td>\n",
       "    </tr>\n",
       "    <tr>\n",
       "      <th>8</th>\n",
       "      <td>Litchfield</td>\n",
       "      <td>2004</td>\n",
       "      <td>3428</td>\n",
       "    </tr>\n",
       "    <tr>\n",
       "      <th>9</th>\n",
       "      <td>Middlesex</td>\n",
       "      <td>2002</td>\n",
       "      <td>1858</td>\n",
       "    </tr>\n",
       "    <tr>\n",
       "      <th>10</th>\n",
       "      <td>Middlesex</td>\n",
       "      <td>2003</td>\n",
       "      <td>3253</td>\n",
       "    </tr>\n",
       "    <tr>\n",
       "      <th>11</th>\n",
       "      <td>Middlesex</td>\n",
       "      <td>2004</td>\n",
       "      <td>3256</td>\n",
       "    </tr>\n",
       "    <tr>\n",
       "      <th>12</th>\n",
       "      <td>New_Haven</td>\n",
       "      <td>2003</td>\n",
       "      <td>2251</td>\n",
       "    </tr>\n",
       "    <tr>\n",
       "      <th>13</th>\n",
       "      <td>New_Haven</td>\n",
       "      <td>2004</td>\n",
       "      <td>2775</td>\n",
       "    </tr>\n",
       "    <tr>\n",
       "      <th>14</th>\n",
       "      <td>New_London</td>\n",
       "      <td>2002</td>\n",
       "      <td>452</td>\n",
       "    </tr>\n",
       "    <tr>\n",
       "      <th>15</th>\n",
       "      <td>New_London</td>\n",
       "      <td>2003</td>\n",
       "      <td>949</td>\n",
       "    </tr>\n",
       "    <tr>\n",
       "      <th>16</th>\n",
       "      <td>New_London</td>\n",
       "      <td>2004</td>\n",
       "      <td>610</td>\n",
       "    </tr>\n",
       "    <tr>\n",
       "      <th>17</th>\n",
       "      <td>Tolland</td>\n",
       "      <td>2002</td>\n",
       "      <td>3141</td>\n",
       "    </tr>\n",
       "    <tr>\n",
       "      <th>18</th>\n",
       "      <td>Tolland</td>\n",
       "      <td>2003</td>\n",
       "      <td>3773</td>\n",
       "    </tr>\n",
       "    <tr>\n",
       "      <th>19</th>\n",
       "      <td>Tolland</td>\n",
       "      <td>2004</td>\n",
       "      <td>3618</td>\n",
       "    </tr>\n",
       "    <tr>\n",
       "      <th>20</th>\n",
       "      <td>Windham</td>\n",
       "      <td>2002</td>\n",
       "      <td>3430</td>\n",
       "    </tr>\n",
       "    <tr>\n",
       "      <th>21</th>\n",
       "      <td>Windham</td>\n",
       "      <td>2003</td>\n",
       "      <td>2269</td>\n",
       "    </tr>\n",
       "    <tr>\n",
       "      <th>22</th>\n",
       "      <td>Windham</td>\n",
       "      <td>2004</td>\n",
       "      <td>2809</td>\n",
       "    </tr>\n",
       "  </tbody>\n",
       "</table>\n",
       "</div>"
      ],
      "text/plain": [
       "          city  year  total_cases\n",
       "0    Fairfield  2002         3962\n",
       "1    Fairfield  2003         4028\n",
       "2    Fairfield  2004         3836\n",
       "3     Hartford  2002          704\n",
       "4     Hartford  2003          114\n",
       "5     Hartford  2004          638\n",
       "6   Litchfield  2002         3234\n",
       "7   Litchfield  2003         3570\n",
       "8   Litchfield  2004         3428\n",
       "9    Middlesex  2002         1858\n",
       "10   Middlesex  2003         3253\n",
       "11   Middlesex  2004         3256\n",
       "12   New_Haven  2003         2251\n",
       "13   New_Haven  2004         2775\n",
       "14  New_London  2002          452\n",
       "15  New_London  2003          949\n",
       "16  New_London  2004          610\n",
       "17     Tolland  2002         3141\n",
       "18     Tolland  2003         3773\n",
       "19     Tolland  2004         3618\n",
       "20     Windham  2002         3430\n",
       "21     Windham  2003         2269\n",
       "22     Windham  2004         2809"
      ]
     },
     "execution_count": 4,
     "metadata": {},
     "output_type": "execute_result"
    }
   ],
   "source": [
    "data2"
   ]
  },
  {
   "cell_type": "code",
   "execution_count": 1,
   "metadata": {
    "extensions": {
     "jupyter_dashboards": {
      "version": 1,
      "views": {
       "grid_default": {
        "hidden": true
       },
       "report_default": {
        "hidden": true
       }
      }
     }
    }
   },
   "outputs": [],
   "source": [
    "import pandas as pd\n",
    "import random\n",
    "df= pd.read_csv(\"DV_Data.csv\")\n",
    "df.total_cases = df.total_cases.astype(int)\n",
    "data2=df.groupby(['city','year'])['total_cases'].sum()\n",
    "data2=pd.DataFrame(data2.reset_index(level=[0,1]))\n",
    "\n",
    "from bokeh.core.properties import value\n",
    "from bokeh.layouts import column, row, widgetbox\n",
    "from bokeh.io import show, output_file\n",
    "from bokeh.models import ColumnDataSource\n",
    "from bokeh.plotting import figure\n",
    "from bokeh.transform import dodge\n",
    "from bokeh.models.widgets import Panel, Tabs,Slider\n",
    "from bokeh.models import CustomJS\n",
    "\n",
    "output_file(\"dodge_bars.html\")\n",
    "\n",
    "cities = list(data2['city'].unique())\n",
    "years = list(data2['year'].unique())\n",
    "\n",
    "data_2002=list(data2[data2.year==2002].total_cases)\n",
    "data_2003=list(data2[data2.year==2003].total_cases)\n",
    "data_2004=list(data2[data2.year==2004].total_cases)\n",
    "\n",
    "data = {'cities' : cities,\n",
    "        '2002'   : data_2002,\n",
    "        '2003'   : data_2003,\n",
    "        '2004'   : data_2004,\n",
    "       }\n",
    "source = ColumnDataSource(data=data)\n",
    "\n",
    "p = figure(x_range=cities, y_range=(0, 5000),plot_width=1200, plot_height=450, title=\"Total Dengue cases recorded each year\",\n",
    "           toolbar_location=None, tools=\"\")\n",
    "\n",
    "p.vbar(x=dodge('cities',  -0.3,  range=p.x_range), top='2002', width=0.1, source=source,\n",
    "       color=\"#404387\", legend=value(\"2002\"))\n",
    "\n",
    "p.vbar(x=dodge('cities',  -0.2, range=p.x_range), top='2003', width=0.1, source=source,\n",
    "       color=\"#FDE724\", legend=value(\"2003\"))\n",
    "\n",
    "p.vbar(x=dodge('cities', -0.1, range=p.x_range), top='2004', width=0.1, source=source,\n",
    "       color=\"#35B778\", legend=value(\"2004\"))\n",
    "\n",
    "\n",
    "p.legend.location = \"top_center\"\n",
    "p.legend.orientation = \"horizontal\"\n",
    "p.yaxis.axis_label = \"Total Dengue Cases Recorded\"\n",
    "p.xaxis.axis_label = \"Cities\"\n",
    "show(p)\n"
   ]
  },
  {
   "cell_type": "code",
   "execution_count": null,
   "metadata": {
    "extensions": {
     "jupyter_dashboards": {
      "version": 1,
      "views": {
       "grid_default": {
        "col": 4,
        "height": 6,
        "hidden": false,
        "row": 12,
        "width": 7
       },
       "report_default": {
        "hidden": false
       }
      }
     }
    }
   },
   "outputs": [],
   "source": [
    "data.head()"
   ]
  },
  {
   "cell_type": "code",
   "execution_count": null,
   "metadata": {
    "extensions": {
     "jupyter_dashboards": {
      "version": 1,
      "views": {
       "grid_default": {
        "col": 4,
        "height": 6,
        "hidden": false,
        "row": 18,
        "width": 4
       },
       "report_default": {
        "hidden": false
       }
      }
     }
    }
   },
   "outputs": [],
   "source": [
    "#data3=data.groupby(['city','year'])['precip_amt','humidity','avg_temp'].sum()\n",
    "data3=data.groupby(['city'])['precip_amt','humidity','avg_temp'].sum()\n",
    "data3=pd.DataFrame(data3.reset_index(level=[0]))\n",
    "data3"
   ]
  },
  {
   "cell_type": "code",
   "execution_count": null,
   "metadata": {
    "extensions": {
     "jupyter_dashboards": {
      "version": 1,
      "views": {
       "grid_default": {
        "hidden": true
       },
       "report_default": {
        "hidden": true
       }
      }
     }
    }
   },
   "outputs": [],
   "source": [
    "from bokeh.models import ColumnDataSource\n",
    "from bokeh.plotting import figure, output_file, show, output_notebook\n",
    "from bokeh.models.widgets import Select\n",
    "from bokeh.io import curdoc\n",
    "from bokeh.layouts import column, row\n",
    "import pandas as pd\n",
    "\n",
    "cities = list(data3['city'].unique())\n",
    "#years = list(data3['year'].unique())\n",
    "precip_amt=list(data3['precip_amt'])\n",
    "humidity=list(data3['humidity'])\n",
    "avg_temp=list(data3['avg_temp'])\n",
    "d1 = {'cities' : cities,\n",
    "        'y'   : precip_amt\n",
    "       }\n",
    "d2 = {'cities' : cities,\n",
    "        'y'   : humidity\n",
    "       }\n",
    "d3= {'cities' : cities,\n",
    "        'y'   : avg_temp\n",
    "       }\n",
    "\n",
    "source = ColumnDataSource(d1)\n",
    "\n",
    "p = figure(x_range=cities, y_range=(0, 15000),plot_width=800, plot_height=450, title=\"Total Dengue cases recorded each year in a city\",\n",
    "           toolbar_location=None, tools=\"\")\n",
    "p.line(x='cities', y='y',source = source,color=\"red\")\n",
    "select = Select(title=\"Year\",  options=['precip_amt', 'humidity','avg_temp'])\n",
    "\n",
    "def update_plot(attrname, old, new):\n",
    "    if select.value == 'precip_amt':\n",
    "        newSource = d1  # changed this to the dict\n",
    "    if select.value == 'humidity':\n",
    "        newSource = d2  # changed this to the dict\n",
    "    if select.value == 'avg_temp':\n",
    "        newSource = d3  # changed this to the dict     \n",
    "    source.data =  newSource \n",
    "\n",
    "\n",
    "select.on_change('value', update_plot)\n",
    "layout = column(row(select, width=400), p)\n",
    "curdoc().add_root(layout)\n",
    "\n"
   ]
  },
  {
   "cell_type": "code",
   "execution_count": null,
   "metadata": {},
   "outputs": [],
   "source": [
    "data.head()"
   ]
  },
  {
   "cell_type": "code",
   "execution_count": 11,
   "metadata": {},
   "outputs": [],
   "source": [
    "import pandas as pd\n",
    "import numpy as np\n",
    "import random\n",
    "from bokeh.models import ColumnDataSource, HoverTool, PanTool, ResetTool\n",
    "from bokeh.plotting import figure, output_file, show, output_notebook\n",
    "from bokeh.models import Range1d\n",
    "\n",
    "data= pd.read_csv(\"DV_Data.csv\")\n",
    "data.total_cases = data.total_cases.astype(int)\n",
    "data.weekofyear = data.weekofyear.astype('category')\n",
    "\n",
    "def yearly_pattern(city, year):\n",
    "    weekofyear = list((data[((data.year==year) & (data.city==city))].weekofyear))\n",
    "    data1=data[((data.year==year) & (data.city==city))].total_cases\n",
    "    N=len(data1)\n",
    "    x = np.random.random(size=N) * 100\n",
    "    y = np.random.random(size=N) * 100\n",
    "    colors = [\n",
    "    \"#%02x%02x%02x\" % (int(r), int(g), 150) for r, g in zip(50+2*x, 30+2*y)\n",
    "    ]\n",
    "    f=figure(width=1000,height=450)\n",
    "    f.title.text = 'Total dengue cases recored each week of the Year'\n",
    "    f.xaxis.axis_label = 'Week of the Year'\n",
    "    f.yaxis.axis_label = \"Total cases\"\n",
    "\n",
    "    f.vbar(x=weekofyear,top=data1,width=0.5, fill_color=colors,fill_alpha=0.6)\n",
    "    hover = HoverTool( tooltips=[(\"Week of year\",'@x'), (\"total cases\",\"@top\")] )\n",
    "    f.add_tools(hover) \n",
    "    show(f)\n",
    "yearly_pattern('New_London', 2002)    "
   ]
  },
  {
   "cell_type": "code",
   "execution_count": 8,
   "metadata": {},
   "outputs": [],
   "source": [
    "import pandas as pd\n",
    "import random\n",
    "data= pd.read_csv(\"DV_Data.csv\")\n",
    "data.total_cases = data.total_cases.astype(int)\n",
    "\n",
    "from bokeh.models import ColumnDataSource,HoverTool\n",
    "from bokeh.plotting import figure, output_file, show, output_notebook\n",
    "from bokeh.models.widgets import Select,Panel,Tabs\n",
    "from bokeh.io import curdoc\n",
    "from bokeh.layouts import column, row\n",
    "from bokeh.layouts import layout\n",
    "from bokeh.io import curdoc\n",
    "import pandas as pd\n",
    "\n",
    "city1=list((data[((data.year==2002) & (data.city==\"New_London\"))].weekofyear))\n",
    "total_cases1=list((data[((data.year==2002) & (data.city==\"New_London\"))].total_cases))\n",
    "\n",
    "city2=list((data[((data.year==2002) & (data.city==\"Middlesex\"))].weekofyear))\n",
    "total_cases2=list((data[((data.year==2002) & (data.city==\"Middlesex\"))].total_cases))\n",
    "\n",
    "city3=list((data[((data.year==2002) & (data.city==\"Fairfield\"))].weekofyear))\n",
    "total_cases3=list((data[((data.year==2002) & (data.city==\"Fairfield\"))].total_cases))\n",
    "\n",
    "city4=list((data[((data.year==2002) & (data.city==\"Hartford\"))].weekofyear))\n",
    "total_cases4=list((data[((data.year==2002) & (data.city==\"Hartford\"))].total_cases))\n",
    "\n",
    "city5=list((data[((data.year==2002) & (data.city==\"Litchfield\"))].weekofyear))\n",
    "total_cases5=list((data[((data.year==2002) & (data.city==\"Litchfield\"))].total_cases))\n",
    "\n",
    "city6=list((data[((data.year==2002) & (data.city==\"Tolland\"))].weekofyear))\n",
    "total_cases6=list((data[((data.year==2002) & (data.city==\"Tolland\"))].total_cases))\n",
    "\n",
    "city7=list((data[((data.year==2002) & (data.city==\"Windham\"))].weekofyear))\n",
    "total_cases7=list((data[((data.year==2002) & (data.city==\"Windham\"))].total_cases))\n",
    "\n",
    "city8=list((data[((data.year==2002) & (data.city==\"New_Haven\"))].weekofyear))\n",
    "total_cases8=list((data[((data.year==2002) & (data.city==\"New_Haven\"))].total_cases))\n",
    "\n",
    "\n",
    "\n",
    "p = figure(plot_width=1000, plot_height=800, title=\"Total Dengue cases recorded in 2002 for the given climate values\",\n",
    "           toolbar_location=None, tools=\"\")\n",
    "p.line(x=city1, y=total_cases1,color=\"red\")\n",
    "p.line(x=city2, y=total_cases2,color=\"blue\")\n",
    "p.line(x=city3, y=total_cases3,color=\"green\")\n",
    "p.line(x=city4, y=total_cases4,color=\"orange\")\n",
    "p.line(x=city5, y=total_cases5,color=\"yellow\")\n",
    "p.line(x=city6, y=total_cases6,color=\"purple\")\n",
    "p.line(x=city7, y=total_cases7,color=\"cyan\")\n",
    "p.line(x=city8, y=total_cases8,color=\"black\")\n",
    "\n",
    "show(p)\n"
   ]
  },
  {
   "cell_type": "code",
   "execution_count": null,
   "metadata": {},
   "outputs": [],
   "source": [
    "data.city.unique()"
   ]
  },
  {
   "cell_type": "code",
   "execution_count": null,
   "metadata": {},
   "outputs": [],
   "source": []
  }
 ],
 "metadata": {
  "extensions": {
   "jupyter_dashboards": {
    "activeView": "report_default",
    "version": 1,
    "views": {
     "grid_default": {
      "cellMargin": 10,
      "defaultCellHeight": 20,
      "maxColumns": 12,
      "name": "grid",
      "type": "grid"
     },
     "report_default": {
      "name": "report",
      "type": "report"
     }
    }
   }
  },
  "kernelspec": {
   "display_name": "Python 3",
   "language": "python",
   "name": "python3"
  },
  "language_info": {
   "codemirror_mode": {
    "name": "ipython",
    "version": 3
   },
   "file_extension": ".py",
   "mimetype": "text/x-python",
   "name": "python",
   "nbconvert_exporter": "python",
   "pygments_lexer": "ipython3",
   "version": "3.6.4"
  }
 },
 "nbformat": 4,
 "nbformat_minor": 2
}
